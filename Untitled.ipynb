{
 "cells": [
  {
   "cell_type": "code",
   "execution_count": 2,
   "id": "93da0437",
   "metadata": {},
   "outputs": [],
   "source": [
    "#!/usr/bin/env python\n",
    "# coding: utf-8\n",
    "\n",
    "# In[372]:\n",
    "\n",
    "\n",
    "import os\n",
    "import glob\n",
    "import pandas as pd\n",
    "from tqdm.auto import tqdm\n",
    "import time\n",
    "import numpy as np\n",
    "import numpy.ma as ma\n",
    "\n",
    "import tensorflow as tf\n",
    "from tensorflow import keras\n",
    "from tensorflow.keras import layers\n",
    "\n",
    "from keras.models import Sequential\n",
    "from keras import layers\n",
    "from keras.optimizers import RMSprop\n",
    "from tensorflow.keras.optimizers import Adam\n",
    "from sklearn.metrics import accuracy_score\n",
    "import matplotlib.pyplot as plt\n",
    "from sklearn.model_selection import train_test_split\n",
    "from tensorflow.keras.layers import concatenate\n",
    "from tensorflow.keras.layers import Conv2D, MaxPooling2D, Flatten\n",
    "from sklearn.model_selection import StratifiedKFold\n",
    "\n",
    "from tensorflow.keras.layers import Dense, Activation, Input, GRU, SimpleRNN, Dropout\n",
    "from tensorflow.keras.models import Model\n",
    "from tensorflow.keras.initializers import GlorotUniform\n",
    "from numpy.random import seed\n",
    "seed(1)\n",
    "tf.random.set_seed(2)"
   ]
  },
  {
   "cell_type": "code",
   "execution_count": 3,
   "id": "d918595e",
   "metadata": {},
   "outputs": [],
   "source": [
    "train_path = 'C:\\\\Users\\\\Steven\\\\Desktop\\\\New folder\\\\train.csv'\n",
    "test_path = 'C:\\\\Users\\\\Steven\\\\Desktop\\\\New folder\\\\validation.csv'\n",
    "train = pd.read_csv(train_path)\n",
    "#train.drop([0], axis=1)\n",
    "test = pd.read_csv(test_path)\n",
    "\n",
    "train['num_risk_deaths'] =  train['risk_deaths'].apply(lambda x: 0 if x == 'low' else 1)\n",
    "train = train.drop(['deaths','confirmed_cases','risk_cases', 'state', 'county_name',\n",
    "           'confirmed_cases_per1000','deaths_per1000', 'risk_deaths', 'county_fips_code'], axis=1)\n",
    "\n",
    "\n",
    "test['num_risk_deaths'] =  test['risk_deaths'].apply(lambda x: 0 if x == 'low' else 1)\n",
    "test = test.drop(['deaths','confirmed_cases','risk_cases', 'state', 'county_name',\n",
    "           'confirmed_cases_per1000','deaths_per1000', 'risk_deaths', 'county_fips_code'], axis=1)\n",
    "\n"
   ]
  },
  {
   "cell_type": "code",
   "execution_count": 4,
   "id": "3e66a863",
   "metadata": {},
   "outputs": [],
   "source": [
    "np_train = train.to_numpy()\n",
    "np_test = test.to_numpy()\n",
    "\n",
    "X_train = np_train[:,:-1]\n",
    "y_train = np_train[:, -1]\n",
    "X_test = np_test[:,:-1]\n",
    "y_test = np_test[:, -1]"
   ]
  },
  {
   "cell_type": "code",
   "execution_count": 5,
   "id": "ba4f7e87",
   "metadata": {},
   "outputs": [],
   "source": [
    "input_all = Input(shape=(X_train.shape[1],))\n",
    "x = Dense(units=32, activation='relu',kernel_initializer='random_normal')(input_all)\n",
    "x = Dense(units=64, activation='relu',kernel_initializer='random_normal')(x)\n",
    "x = Dense(units=128, activation='relu',kernel_initializer='random_normal')(x)\n",
    "x = Dense(units=256, activation='relu',kernel_initializer='random_normal')(x)\n",
    "x = Dense(units=128, activation='relu',kernel_initializer='random_normal')(x)\n",
    "x = Dense(units=64, activation='relu',kernel_initializer='random_normal')(x)\n",
    "x = Dense(units=32, activation='relu',kernel_initializer='random_normal')(x)\n",
    "prediction = Dense(units=1, activation='sigmoid')(x)\n",
    "\n",
    "model = Model(inputs=input_all, outputs=prediction)\n"
   ]
  },
  {
   "cell_type": "code",
   "execution_count": 6,
   "id": "b4079be8",
   "metadata": {},
   "outputs": [
    {
     "name": "stdout",
     "output_type": "stream",
     "text": [
      "Model: \"model\"\n",
      "_________________________________________________________________\n",
      "Layer (type)                 Output Shape              Param #   \n",
      "=================================================================\n",
      "input_1 (InputLayer)         [(None, 20)]              0         \n",
      "_________________________________________________________________\n",
      "dense (Dense)                (None, 32)                672       \n",
      "_________________________________________________________________\n",
      "dense_1 (Dense)              (None, 64)                2112      \n",
      "_________________________________________________________________\n",
      "dense_2 (Dense)              (None, 128)               8320      \n",
      "_________________________________________________________________\n",
      "dense_3 (Dense)              (None, 256)               33024     \n",
      "_________________________________________________________________\n",
      "dense_4 (Dense)              (None, 128)               32896     \n",
      "_________________________________________________________________\n",
      "dense_5 (Dense)              (None, 64)                8256      \n",
      "_________________________________________________________________\n",
      "dense_6 (Dense)              (None, 32)                2080      \n",
      "_________________________________________________________________\n",
      "dense_7 (Dense)              (None, 1)                 33        \n",
      "=================================================================\n",
      "Total params: 87,393\n",
      "Trainable params: 87,393\n",
      "Non-trainable params: 0\n",
      "_________________________________________________________________\n"
     ]
    }
   ],
   "source": [
    "from tensorflow.keras.optimizers import Adam\n",
    "model.compile(optimizer=Adam(learning_rate=0.0001),\n",
    "              loss='bce',\n",
    "              metrics=['accuracy'])\n",
    "model.summary()"
   ]
  },
  {
   "cell_type": "code",
   "execution_count": 7,
   "id": "c060c4dc",
   "metadata": {},
   "outputs": [],
   "source": [
    "def plot_history(history):\n",
    "    loss = history.history['loss']\n",
    "    val_loss = history.history['val_loss']\n",
    "\n",
    "    epochs = range(1, len(loss) + 1)\n",
    "\n",
    "    plt.figure(figsize=(12.8,4.8))\n",
    "    plt.plot(epochs, loss, 'r', label='Training loss')\n",
    "    plt.plot(epochs, val_loss, 'b', label='Validation loss')\n",
    "    plt.title('Training and Validation Loss')\n",
    "    plt.legend()\n",
    "    plt.show()\n",
    "    \n",
    "def plot_acc(history):\n",
    "    acc = history.history['accuracy']\n",
    "    val_acc = history.history['val_accuracy']\n",
    "\n",
    "    epochs = range(1, len(acc) + 1)\n",
    "\n",
    "    plt.figure(figsize=(12.8,4.8))\n",
    "    plt.plot(epochs, acc, 'r', label='Training accuracy')\n",
    "    plt.plot(epochs, val_acc, 'b', label='Validation accuracy')\n",
    "    plt.title('Training and Validation accuracy')\n",
    "    plt.legend()\n",
    "    plt.show()"
   ]
  },
  {
   "cell_type": "code",
   "execution_count": 10,
   "id": "f505b5cf",
   "metadata": {},
   "outputs": [
    {
     "name": "stdout",
     "output_type": "stream",
     "text": [
      "[3.132909e-07] [0.99786264] 0.3098654\n",
      "[0.00371825] [0.95638984] 0.32598615\n"
     ]
    }
   ],
   "source": [
    "model = None\n",
    "input_all = Input(shape=(X_train.shape[1],))\n",
    "x = Dense(units=32, activation='relu', kernel_initializer='glorot_uniform')(input_all)\n",
    "x = Dense(units=64, activation='relu',kernel_initializer='glorot_uniform')(x)\n",
    "x = Dense(units=128, activation='relu',kernel_initializer='glorot_uniform')(x)\n",
    "x = Dense(units=256, activation='relu',kernel_initializer='glorot_uniform')(x)\n",
    "prediction = Dense(units=1, activation='sigmoid')(x)\n",
    "\n",
    "model = Model(inputs=input_all, outputs=prediction)\n",
    "model.compile(optimizer=Adam(learning_rate=0.00001,\n",
    "                             beta_1=0.8,\n",
    "                             beta_2=0.99,\n",
    "                             epsilon=1e-06,),\n",
    "              loss='bce',\n",
    "              metrics=['accuracy'])\n",
    "\n",
    "class_weight = [5,  50]\n",
    "\n",
    "history = model.fit(X_train, y_train, validation_data=(X_test, y_test),\n",
    "                    epochs=120,  batch_size=50, \n",
    "                    class_weight=class_weight, \n",
    "                    verbose=False)\n",
    "yhat = model.predict(X_train)\n",
    "print(min(yhat), max(yhat), np.mean(yhat))\n",
    "yhat = model.predict(X_test)\n",
    "print(min(yhat), max(yhat), np.mean(yhat))\n"
   ]
  },
  {
   "cell_type": "code",
   "execution_count": 8,
   "id": "3ef951f5",
   "metadata": {},
   "outputs": [
    {
     "ename": "NameError",
     "evalue": "name 'history' is not defined",
     "output_type": "error",
     "traceback": [
      "\u001b[1;31m---------------------------------------------------------------------------\u001b[0m",
      "\u001b[1;31mNameError\u001b[0m                                 Traceback (most recent call last)",
      "\u001b[1;32m~\\AppData\\Local\\Temp/ipykernel_12764/2581274560.py\u001b[0m in \u001b[0;36m<module>\u001b[1;34m\u001b[0m\n\u001b[0;32m      1\u001b[0m \u001b[1;32mimport\u001b[0m \u001b[0mmatplotlib\u001b[0m\u001b[1;33m.\u001b[0m\u001b[0mpyplot\u001b[0m \u001b[1;32mas\u001b[0m \u001b[0mplt\u001b[0m\u001b[1;33m\u001b[0m\u001b[1;33m\u001b[0m\u001b[0m\n\u001b[1;32m----> 2\u001b[1;33m \u001b[0mloss\u001b[0m \u001b[1;33m=\u001b[0m \u001b[0mhistory\u001b[0m\u001b[1;33m.\u001b[0m\u001b[0mhistory\u001b[0m\u001b[1;33m[\u001b[0m\u001b[1;34m'loss'\u001b[0m\u001b[1;33m]\u001b[0m\u001b[1;33m\u001b[0m\u001b[1;33m\u001b[0m\u001b[0m\n\u001b[0m\u001b[0;32m      3\u001b[0m \u001b[0mval_loss\u001b[0m \u001b[1;33m=\u001b[0m \u001b[0mhistory\u001b[0m\u001b[1;33m.\u001b[0m\u001b[0mhistory\u001b[0m\u001b[1;33m[\u001b[0m\u001b[1;34m'val_loss'\u001b[0m\u001b[1;33m]\u001b[0m\u001b[1;33m\u001b[0m\u001b[1;33m\u001b[0m\u001b[0m\n\u001b[0;32m      4\u001b[0m \u001b[1;33m\u001b[0m\u001b[0m\n\u001b[0;32m      5\u001b[0m \u001b[0mepochs\u001b[0m \u001b[1;33m=\u001b[0m \u001b[0mrange\u001b[0m\u001b[1;33m(\u001b[0m\u001b[1;36m1\u001b[0m\u001b[1;33m,\u001b[0m \u001b[0mlen\u001b[0m\u001b[1;33m(\u001b[0m\u001b[0mloss\u001b[0m\u001b[1;33m)\u001b[0m \u001b[1;33m+\u001b[0m \u001b[1;36m1\u001b[0m\u001b[1;33m)\u001b[0m\u001b[1;33m\u001b[0m\u001b[1;33m\u001b[0m\u001b[0m\n",
      "\u001b[1;31mNameError\u001b[0m: name 'history' is not defined"
     ]
    }
   ],
   "source": [
    "import matplotlib.pyplot as plt\n",
    "loss = history.history['loss']\n",
    "val_loss = history.history['val_loss']\n",
    "\n",
    "epochs = range(1, len(loss) + 1)\n",
    "\n",
    "plot_history(history)\n",
    "\n",
    "yhat = model.predict(X_train).round()\n",
    "\n",
    "print('Train:', accuracy_score(y_train, yhat)*100)\n",
    "\n",
    "yhat = model.predict(X_test).round()\n",
    "print('Validation:', accuracy_score(y_test, yhat)*100)\n"
   ]
  },
  {
   "cell_type": "code",
   "execution_count": null,
   "id": "9a952cdc",
   "metadata": {},
   "outputs": [],
   "source": []
  }
 ],
 "metadata": {
  "kernelspec": {
   "display_name": "Python [conda env:lab-1-tensor] *",
   "language": "python",
   "name": "conda-env-lab-1-tensor-py"
  },
  "language_info": {
   "codemirror_mode": {
    "name": "ipython",
    "version": 3
   },
   "file_extension": ".py",
   "mimetype": "text/x-python",
   "name": "python",
   "nbconvert_exporter": "python",
   "pygments_lexer": "ipython3",
   "version": "3.7.9"
  }
 },
 "nbformat": 4,
 "nbformat_minor": 5
}
